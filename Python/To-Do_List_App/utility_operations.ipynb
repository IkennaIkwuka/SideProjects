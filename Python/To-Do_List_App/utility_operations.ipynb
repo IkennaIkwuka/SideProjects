{
 "cells": [
  {
   "cell_type": "code",
   "execution_count": null,
   "metadata": {},
   "outputs": [],
   "source": [
    "class utility_operations:\n",
    "    def __init__(self) -> None:\n",
    "        pass\n",
    "    \n",
    "    def save_tasks(self):\n",
    "        save_task = input(\"Would you like to save your tasks? (y/n)\").lower().strip()\n",
    "        if save_task[0] == \"y\":\n",
    "            try:\n",
    "                with open(\"Task.txt\", \"r\") as file:\n",
    "                    if len(file.readlines()) >= 10:\n",
    "                        print(\"The file is full\")\n",
    "            except FileNotFoundError:\n",
    "                with open(\"Task.txt\", \"a\") as file:\n",
    "                    file.writelines(tasks_list)\n",
    "            except Exception as e:\n",
    "                print(f\"Unexpected error at {e}\")\n",
    "            else:\n",
    "                print(\"File saved successfully\")\n",
    "            finally:\n",
    "                print(\"Operation carried out. Here are the tasks\")\n",
    "                for i in tasks_list:\n",
    "                    print(i)\n",
    "        elif save_task[0] != \"n\":\n",
    "            print(\"invalid input\")\n",
    "        else:\n",
    "            for i in tasks_list:\n",
    "                print(i)\n",
    "            break"
   ]
  }
 ],
 "metadata": {
  "kernelspec": {
   "display_name": ".venv",
   "language": "python",
   "name": "python3"
  },
  "language_info": {
   "name": "python",
   "version": "3.13.0"
  }
 },
 "nbformat": 4,
 "nbformat_minor": 2
}
