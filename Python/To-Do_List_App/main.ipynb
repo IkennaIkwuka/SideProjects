{
 "cells": [
  {
   "cell_type": "code",
   "execution_count": null,
   "metadata": {},
   "outputs": [],
   "source": [
    "\"\"\"\n",
    "(Beginner)\n",
    "To-Do List App: Create a simple command-line to-do list application where users can add, remove, and mark tasks as done.\n",
    "\n",
    "What to achieve:\n",
    "1. Crud operations (Create, Read, Update, Delete).\n",
    "2. Repeat loop.\n",
    "3. App logic function; \n",
    "    Displays options: Create tasks, View tasks, Update tasks, Delete tasks. \n",
    "    Takes input and handles error logic.\n",
    "4. Create tasks function;\n",
    "    Creates and Stores tasks.\n",
    "    Limits tasks to 10.\n",
    "    Checks if \"Tasks.txt\" file exceeds maximum allowed of 10.\n",
    "    Option to save tasks to file.\n",
    "5. View tasks function: \n",
    "6. Update tasks function: \n",
    "7. Delete tasks function: (TO-DO)\n",
    "8. Additional functionality: \n",
    "    mark tasks as completed (TO-DO)\n",
    "    Add functionality to see date/time of task creation.\n",
    "\n",
    "Changes being made:\n",
    "    12/15/2024: \n",
    "        Adding classes to implement Object Oriented Programming (OOP)\n",
    "        Created modules for CRUD operations and utility operations\n",
    "\"\"\""
   ]
  },
  {
   "cell_type": "code",
   "execution_count": 8,
   "metadata": {},
   "outputs": [],
   "source": [
    "# Logic function\n",
    "class app_logic:\n",
    "    \n",
    "    def __init__(self) -> None:\n",
    "        pass"
   ]
  },
  {
   "cell_type": "code",
   "execution_count": null,
   "metadata": {},
   "outputs": [],
   "source": [
    "def display():\n",
    "    # Displays options\n",
    "    print(\"To-Do List App by Ikenna Nicholas Ikwuka\")\n",
    "    print(\"1. Create new tasks\")\n",
    "    print(\"2. View tasks\")\n",
    "    print(\"3. Update tasks\")\n",
    "    print(\"4. Delete tasks\")\n",
    "    print(\"5. Quit\")\n",
    "\n",
    "    # Loop to take input and catch errors\n",
    "    while True:\n",
    "        # Validate user input and implements error handling.\n",
    "        try:\n",
    "            choice = int(input(\"What do you want to do?: \"))\n",
    "\n",
    "            if choice in range(1, 6):  # Checks input in range of 1 ~ 5\n",
    "                return choice\n",
    "            else:\n",
    "                print(\"Invalid Input. Input a value from range 1 ~ 5\")\n",
    "        # Throw raised error or any unchecked errors\n",
    "        except ValueError:  # Catches and displays ValueError for invalid types.\n",
    "            print(\"Invalid Input. Input a number\")\n",
    "        except Exception as e:  # Catches and displays unexpected error.\n",
    "            print(f\"Unexpected error: {e}\")"
   ]
  },
  {
   "cell_type": "code",
   "execution_count": null,
   "metadata": {},
   "outputs": [],
   "source": [
    "# Main function\n",
    "def main():\n",
    "    choice = app_logic()\n",
    "    task_list = []\n",
    "    match choice:\n",
    "        case 1:\n",
    "            task_list = create_tasks()\n",
    "            print(f\"Hi from main {task_list}\")\n",
    "            # save = input(\"Do you want to save your tasks?\")\n",
    "        case 2:\n",
    "            update_tasks()\n",
    "        case 3:\n",
    "            ViewTasks()\n",
    "        case 4:\n",
    "            DeleteTasks()\n",
    "        case 5:\n",
    "            print(\"Thanks for using the app.\")\n",
    "\n",
    "\n",
    "# Starts here\n",
    "main()"
   ]
  }
 ],
 "metadata": {
  "kernelspec": {
   "display_name": "to-do_list_app.venv",
   "language": "python",
   "name": "python3"
  },
  "language_info": {
   "codemirror_mode": {
    "name": "ipython",
    "version": 3
   },
   "file_extension": ".py",
   "mimetype": "text/x-python",
   "name": "python",
   "nbconvert_exporter": "python",
   "pygments_lexer": "ipython3",
   "version": "3.13.0"
  }
 },
 "nbformat": 4,
 "nbformat_minor": 2
}
