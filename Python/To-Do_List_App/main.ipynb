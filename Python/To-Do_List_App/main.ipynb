{
 "cells": [
  {
   "cell_type": "code",
   "execution_count": null,
   "metadata": {},
   "outputs": [],
   "source": [
    "\"\"\"\n",
    "(Beginner)\n",
    "To-Do List App: Create a simple command-line to-do list application where users can add, remove, and mark tasks as done.\n",
    "\n",
    "What to achieve:\n",
    "1. Crud operations (Create, Read, Update, Delete).\n",
    "2. Repeat loop.\n",
    "3. App logic function; \n",
    "    Displays options: Create tasks, View tasks, Update tasks, Delete tasks. \n",
    "    Takes input and handles error logic.\n",
    "4. Create tasks function;\n",
    "    Creates and Stores tasks.\n",
    "    Limits tasks to 10.\n",
    "    Checks if \"Tasks.txt\" file exceeds maximum allowed of 10.\n",
    "    Option to save tasks to file.\n",
    "5. View tasks function: \n",
    "6. Update tasks function: \n",
    "7. Delete tasks function: (TO-DO)\n",
    "8. Additional functionality: \n",
    "    mark tasks as completed (TO-DO)\n",
    "    Add functionality to see date/time of task creation.\n",
    "\"\"\""
   ]
  },
  {
   "cell_type": "code",
   "execution_count": 8,
   "metadata": {},
   "outputs": [],
   "source": [
    "# Logic function\n",
    "def app_logic():\n",
    "\n",
    "    # Display options\n",
    "    print(\"To-Do List App by Ikenna Nicholas Ikwuka\")\n",
    "    print(\"1. Create tasks\")\n",
    "    print(\"2. View tasks\")\n",
    "    print(\"3. Update tasks\")\n",
    "    print(\"4. Delete tasks\")\n",
    "    print(\"5. Quit\")\n",
    "\n",
    "    # Loop to take input and catch errors\n",
    "    while True:\n",
    "        try:\n",
    "            choice = int(input(\"What do you want to do?: \"))\n",
    "\n",
    "            if choice in range(1, 6):\n",
    "                return choice\n",
    "            else:\n",
    "                print(\"Input a value from range 1 ~ 5\")\n",
    "        # Throw raised error or any unchecked errors\n",
    "        except ValueError:\n",
    "            print(\"Input a number\")\n",
    "        except Exception as e:\n",
    "            print(f\"An unexpected error occurred at: {e}\")"
   ]
  },
  {
   "cell_type": "code",
   "execution_count": 15,
   "metadata": {},
   "outputs": [],
   "source": [
    "# Task creation function\n",
    "def create_tasks():\n",
    "\n",
    "    tasks_list = []\n",
    "    task_amount = 0\n",
    "\n",
    "    while True:\n",
    "        task_count = input(\n",
    "            \"Hi!, how many task would you like to create?(maximum of 10): \"\n",
    "        )\n",
    "        if task_count.isdigit():\n",
    "            task_count = int(task_count)\n",
    "            if task_count > 0 and task_count < 11:\n",
    "                task_amount = task_count\n",
    "                print(f\"You are going to create {task_amount} tasks\")\n",
    "                break\n",
    "            else:\n",
    "                print(\"Invalid amount. maximum of 10\")\n",
    "        elif task_count == \"\":\n",
    "            print(\"Invalid input. Cannot be empty\")\n",
    "        else:\n",
    "            print(\"Invalid input. Must be a number\")\n",
    "\n",
    "    while task_amount != 0:\n",
    "        task_input = input(\n",
    "            f\"Create a task {len(tasks_list) + 1}/{task_count}: \"\n",
    "        ).strip()\n",
    "        if task_input != \"\":\n",
    "            tasks_list.append(task_input)\n",
    "            print(f\"{len(tasks_list)}/{task_count} tasks created successfully.\")\n",
    "            task_amount -= 1\n",
    "        else:\n",
    "            print(\"Cannot be empty\")\n",
    "\n",
    "    return tasks_list"
   ]
  },
  {
   "cell_type": "code",
   "execution_count": null,
   "metadata": {},
   "outputs": [],
   "source": [
    "# View tasks function\n",
    "def ViewTasks(task):\n",
    "\n",
    "    for i in range(1, 11):\n",
    "        dict = {i: task}"
   ]
  },
  {
   "cell_type": "code",
   "execution_count": 16,
   "metadata": {},
   "outputs": [
    {
     "name": "stdout",
     "output_type": "stream",
     "text": [
      "To-Do List App by Ikenna Nicholas Ikwuka\n",
      "1. Create tasks\n",
      "2. View tasks\n",
      "3. Update tasks\n",
      "4. Delete tasks\n",
      "5. Quit\n",
      "You are going to create 5 tasks\n",
      "1/5 tasks created successfully.\n",
      "2/5 tasks created successfully.\n",
      "Cannot be empty\n",
      "3/5 tasks created successfully.\n",
      "4/5 tasks created successfully.\n",
      "5/5 tasks created successfully.\n",
      "Hi from main ['e9ehr', 'wg98h', 'wrghw', 'wgrwwi', 'gwrugh']\n"
     ]
    }
   ],
   "source": [
    "# Main function\n",
    "def main():\n",
    "    choice = app_logic()\n",
    "    task_list = []\n",
    "    match choice:\n",
    "        case 1:\n",
    "            task_list = create_tasks()\n",
    "            print(f\"Hi from main {task_list}\")\n",
    "            # save = input(\"Do you want to save your tasks?\")\n",
    "        case 2:\n",
    "            ViewTasks()\n",
    "        case 3:\n",
    "            UpdateTasks()\n",
    "        case 4:\n",
    "            DeleteTasks()\n",
    "        case 5:\n",
    "            print(\"Thanks for using the app.\")\n",
    "\n",
    "\n",
    "# Starts here\n",
    "main()"
   ]
  }
 ],
 "metadata": {
  "kernelspec": {
   "display_name": ".venv",
   "language": "python",
   "name": "python3"
  },
  "language_info": {
   "codemirror_mode": {
    "name": "ipython",
    "version": 3
   },
   "file_extension": ".py",
   "mimetype": "text/x-python",
   "name": "python",
   "nbconvert_exporter": "python",
   "pygments_lexer": "ipython3",
   "version": "3.13.0"
  }
 },
 "nbformat": 4,
 "nbformat_minor": 2
}
