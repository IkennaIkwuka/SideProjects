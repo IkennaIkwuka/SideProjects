{
 "cells": [
  {
   "cell_type": "code",
   "execution_count": 2,
   "metadata": {},
   "outputs": [],
   "source": [
    "class crud_operations:\n",
    "\n",
    "    def __init__(self):\n",
    "        pass\n",
    "\n",
    "    # Task creation function\n",
    "    def create_tasks(self):\n",
    "\n",
    "        self.tasks_list = []  # Array that holds tasks list.\n",
    "        task_amount = 0\n",
    "\n",
    "        while True:\n",
    "            # Validate user input and implements error handling.\n",
    "            try:\n",
    "                task_count = int(\n",
    "                    input(\n",
    "                        \"Hi!, how many task would you like to create?(maximum of 10): \"\n",
    "                    )\n",
    "                )\n",
    "                if task_count > 0 and task_count < 11:\n",
    "                    task_amount = task_count\n",
    "                    print(f\"You are going to create {task_amount} tasks\")\n",
    "                    break  # Loop ends\n",
    "                else:\n",
    "                    print(\"Invalid amount. Maximum of 10\")\n",
    "            except ValueError:  # Catches and displays ValueError for invalid types.\n",
    "                print(\"Invalid input. Input a number\")\n",
    "            except Exception as e:  # Catches and displays unexpected error.\n",
    "                print(f\"Unexpected error: {e}\")\n",
    "\n",
    "        while task_amount != 0:\n",
    "            task_input = input(\n",
    "                f\"Create a task {len(self.tasks_list) + 1}/{task_count}: \"\n",
    "            ).strip()  # .strip(): Strips input of leading and trailing whitespace.\n",
    "            if task_input != \"\":  # Return True if \"task_input\" is not empty\n",
    "                self.tasks_list.append(task_input)  # Adds \"task_input\" to tasks list.\n",
    "                print(\n",
    "                    f\"{len(self.tasks_list)}/{task_count} tasks created successfully.\"\n",
    "                )\n",
    "                task_amount -= 1  # Decrements \"task_amount\" and continues loop.\n",
    "            else:\n",
    "                print(\"Cannot be empty\")\n",
    "\n",
    "        return self.tasks_list  # Returns tasks list"
   ]
  },
  {
   "cell_type": "code",
   "execution_count": null,
   "metadata": {},
   "outputs": [],
   "source": [
    "# tsk_list = crud_operations().tasks_list\n",
    "\n",
    "# # View Tasks function\n",
    "# def view_tasks():"
   ]
  },
  {
   "cell_type": "code",
   "execution_count": null,
   "metadata": {},
   "outputs": [],
   "source": [
    "# # Update Tasks function\n",
    "# def update_tasks():\n",
    "#     pass"
   ]
  }
 ],
 "metadata": {
  "kernelspec": {
   "display_name": "to-do_list_app.venv",
   "language": "python",
   "name": "python3"
  },
  "language_info": {
   "codemirror_mode": {
    "name": "ipython",
    "version": 3
   },
   "file_extension": ".py",
   "mimetype": "text/x-python",
   "name": "python",
   "nbconvert_exporter": "python",
   "pygments_lexer": "ipython3",
   "version": "3.13.0"
  }
 },
 "nbformat": 4,
 "nbformat_minor": 2
}
